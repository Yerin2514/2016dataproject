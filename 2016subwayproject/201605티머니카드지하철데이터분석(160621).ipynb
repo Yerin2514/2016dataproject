{
 "cells": [
  {
   "cell_type": "code",
   "execution_count": null,
   "metadata": {
    "collapsed": false
   },
   "outputs": [],
   "source": [
    "import csv\n",
    "data = csv.reader(open('201605subway.csv','r'),delimiter=\",\")\n",
    "\n",
    "i = int(input('몇시가 궁금하신가요?'))-4\n",
    "max_person = 0\n",
    "max_station = ''\n",
    "for row in data : \n",
    "    if(int(max_person) < int(row[2+(i*2)])):\n",
    "        max_person = row[2+(i*2)]\n",
    "        max_station = row[1]+'('+ row[0]+')'\n",
    "print(max_station, max_person)"
   ]
  },
  {
   "cell_type": "code",
   "execution_count": null,
   "metadata": {
    "collapsed": false
   },
   "outputs": [],
   "source": [
    "import csv\n",
    "data = csv.reader(open('201605subway.csv','r'), delimiter=\",\")\n",
    "\n",
    "max_person1 = [0] * 24\n",
    "max_station1 = [''] * 24\n",
    "\n",
    "max_person2 = [0] * 24\n",
    "max_station2 = [''] * 24\n",
    "for row in data :\n",
    "    for i in range(24):\n",
    "        if int(max_person1[i]) < int(row[2+(i*2)]) :\n",
    "            max_person1[i] = row[2+(i*2)]\n",
    "            max_station1[i] = row[1] + '/' + str(i+4) #+'('+ row[0]+')'\n",
    "        if int(max_person2[i]) < int(row[3 + (i * 2)]):\n",
    "            max_person2[i] = row[3 + (i * 2)]\n",
    "            max_station2[i] = row[1] + '/' + str(i + 4)  # +'('+ row[0]+')'\n",
    "\n",
    "for i in range(24):\n",
    "    print(i+4,'시(승차): ', max_station1[i],'/',max_person1[i])\n",
    "    print(i + 4,'시(하차): ', max_station2[i], '/', max_person2[i])\n",
    "\n",
    "import matplotlib.pyplot as plt\n",
    "import numpy as np\n",
    "plt.rc('font',family='Malgun Gothic')\n",
    "cnt = np.arange(24)\n",
    "plt.subplot(121)\n",
    "plt.title('2016년 5월 서울시 지하철 시간대별 최다 승차역')\n",
    "plt.plot(cnt, max_person1,'r')\n",
    "plt.xticks(cnt, max_station1,rotation='vertical')\n",
    "plt.ylim(ymax=450000)\n",
    "plt.subplot(122)\n",
    "plt.title('2016년 5월 서울시 지하철 시간대별 최다 하차역')\n",
    "plt.plot(cnt, max_person2,'b')\n",
    "plt.xticks(cnt, max_station2,rotation='vertical')\n",
    "plt.ylim(ymax=450000)\n",
    "plt.show()"
   ]
  },
  {
   "cell_type": "code",
   "execution_count": 5,
   "metadata": {
    "collapsed": false
   },
   "outputs": [
    {
     "name": "stdout",
     "output_type": "stream",
     "text": [
      "무슨 역인가요?신도림\n",
      "몇 호선인가요?2호선\n",
      "신도림\n",
      "['2970', '46168', '67342', '175910', '177418', '117820', '84973', '81372', '90583', '97854', '95403', '98514', '103354', '122960', '164920', '120141', '98809', '103592', '88973', '40641', '5406', '17', '1', '0']\n",
      "['20', '7075', '29124', '58160', '145081', '96198', '84395', '78475', '91024', '96197', '92915', '97956', '107435', '134087', '197401', '196138', '117716', '106864', '113415', '87596', '40015', '4311', '1', '0']\n"
     ]
    }
   ],
   "source": [
    "import csv\n",
    "data = csv.reader(open('201605subway.csv','r'),delimiter=\",\")\n",
    "\n",
    "인원 = []\n",
    "역이름 = input('무슨 역인가요?')\n",
    "호선 = input('몇 호선인가요?')\n",
    "\n",
    "for row in data :\n",
    "    if(row[1] == 역이름 and row[0] == 호선):\n",
    "        print(row[1])\n",
    "        인원 = row[2:]\n",
    "    \n",
    "승차 = 인원[::2]\n",
    "하차 = 인원[1::2]\n",
    "\n",
    "print(승차)\n",
    "print(하차)\n",
    "\n",
    "import matplotlib.pyplot as plt\n",
    "plt.rc('font',family='Malgun Gothic')\n",
    "\n",
    "labels = []\n",
    "x = []\n",
    "for i in range(4,28):\n",
    "    labels.append(str(i)+'시')\n",
    "    x.append(i)\n",
    "    \n",
    "plt.xticks(x, labels,rotation='vertical')\n",
    "plt.plot(x,승차,'r', label='승차 인원')\n",
    "plt.plot(x,하차,'b', label='하차 인원')\n",
    "plt.ylim(ymax=20000)\n",
    "plt.title(역이름+'('+호선+')')\n",
    "plt.legend()\n",
    "plt.show()"
   ]
  },
  {
   "cell_type": "code",
   "execution_count": 43,
   "metadata": {
    "collapsed": false
   },
   "outputs": [
    {
     "name": "stdout",
     "output_type": "stream",
     "text": [
      "첫 번째 역 이름을 입력하세요 : 신림\n",
      "첫 번째 역은 몇 호선인가요? : 2호선\n",
      "두 번째 역 이름을 입력하세요 : 신도림\n",
      "첫 번째 역은 몇 호선인가요? : 2호선\n"
     ]
    }
   ],
   "source": [
    "import csv\n",
    "data = csv.reader(open('201605subway.csv','r'),delimiter=\",\")\n",
    "\n",
    "인원1 = []\n",
    "인원2 = []\n",
    "역이름1 = input('첫 번째 역 이름을 입력하세요 : ')\n",
    "호선1 = input('첫 번째 역은 몇 호선인가요? : ')\n",
    "역이름2 = input('두 번째 역 이름을 입력하세요 : ')\n",
    "호선2 = input('첫 번째 역은 몇 호선인가요? : ')\n",
    "\n",
    "for row in data :\n",
    "    if(row[1] == 역이름1 and row[0] == 호선1): \n",
    "        인원1 = row[2:]\n",
    "    if(row[1] == 역이름2 and row[0] == 호선2):\n",
    "        인원2 = row[2:]\n",
    "    \n",
    "승차1 = 인원1[::2]\n",
    "하차1 = 인원1[1::2]\n",
    "\n",
    "승차2 = 인원2[::2]\n",
    "하차2 = 인원2[1::2]\n",
    "\n",
    "import matplotlib.pyplot as plt\n",
    "plt.rc('font',family='Malgun Gothic')\n",
    "\n",
    "labels = []\n",
    "x = []\n",
    "for i in range(4,28):\n",
    "    labels.append(str(i)+'시')\n",
    "    x.append(i)\n",
    "    \n",
    "plt.xticks(x, labels,rotation='vertical')\n",
    "plt.plot(x,승차1,'r', label=역이름1+'역 승차')\n",
    "plt.plot(x,승차2,'b', label=역이름2+'역 승차')\n",
    "plt.ylim(ymax=420000)\n",
    "#plt.title(역이름1+'역 승차 인원 vs '+역이름2+'역 승차 인원   # 2016년 5월 티머니카드 제공 데이터')\n",
    "#plt.legend()\n",
    "#plt.show()\n",
    "\n",
    "plt.xticks(x, labels,rotation='vertical')\n",
    "plt.plot(x,하차1,'r--', label=역이름1+'역 하차')\n",
    "plt.plot(x,하차2,'b--', label=역이름2+'역 하차')\n",
    "plt.ylim(ymax=420000)\n",
    "plt.title(역이름1+'역 승하차 인원 vs '+역이름2+'역 승하차 인원   # 2016년 5월 티머니카드 제공 데이터')\n",
    "plt.legend()\n",
    "plt.show()"
   ]
  },
  {
   "cell_type": "code",
   "execution_count": 40,
   "metadata": {
    "collapsed": true
   },
   "outputs": [],
   "source": [
    "plt.xticks(x, labels,rotation='vertical')\n",
    "plt.plot(x,하차1,'r', label=역이름1+'역')\n",
    "plt.plot(x,하차2,'b', label=역이름2+'역')\n",
    "plt.ylim(ymax=420000)\n",
    "plt.title(역이름1+'역 하차 인원 vs '+역이름2+'역 하차 인원   # 2016년 5월 티머니카드 제공 데이터')\n",
    "plt.legend()\n",
    "plt.show()"
   ]
  },
  {
   "cell_type": "code",
   "execution_count": null,
   "metadata": {
    "collapsed": true
   },
   "outputs": [],
   "source": []
  }
 ],
 "metadata": {
  "kernelspec": {
   "display_name": "Python 3",
   "language": "python",
   "name": "python3"
  },
  "language_info": {
   "codemirror_mode": {
    "name": "ipython",
    "version": 3
   },
   "file_extension": ".py",
   "mimetype": "text/x-python",
   "name": "python",
   "nbconvert_exporter": "python",
   "pygments_lexer": "ipython3",
   "version": "3.5.1"
  }
 },
 "nbformat": 4,
 "nbformat_minor": 0
}
